{
  "nbformat": 4,
  "nbformat_minor": 0,
  "metadata": {
    "colab": {
      "provenance": [],
      "authorship_tag": "ABX9TyO82r5cUq+3EaPDwr+VdxXb",
      "include_colab_link": true
    },
    "kernelspec": {
      "name": "python3",
      "display_name": "Python 3"
    },
    "language_info": {
      "name": "python"
    }
  },
  "cells": [
    {
      "cell_type": "markdown",
      "metadata": {
        "id": "view-in-github",
        "colab_type": "text"
      },
      "source": [
        "<a href=\"https://colab.research.google.com/github/dharshhh1006/Natural-disaster-prediction-and-management-/blob/main/Natural_disaster_prediction_and_management.ipynb\" target=\"_parent\"><img src=\"https://colab.research.google.com/assets/colab-badge.svg\" alt=\"Open In Colab\"/></a>"
      ]
    },
    {
      "cell_type": "code",
      "execution_count": null,
      "metadata": {
        "id": "au22XuV8z2iD"
      },
      "outputs": [],
      "source": [
        "\n",
        "# SECURITY ENCRYPTION\n",
        "key = Fernet.generate_key()\n",
        "cipher = Fernet(key)\n",
        "def encrypt_data(data: str) -> bytes:\n",
        " return cipher.encrypt(data.encode())\n",
        "def decrypt_data(encrypted_data: bytes) -> str:\n",
        " return cipher.decrypt(encrypted_data).decode()\n",
        "# MAIN PROGRAM\n",
        "if _name_ == \"_main_\":\n",
        " # Simulate environmental sensor data\n",
        " iot_data = simulate_iot_data()\n",
        " print(\"IoT Sensor Readings:\", iot_data)\n",
        " # Predict possible disasters\n",
        " predictions = predict_disaster(iot_data)\n",
        " print(\"Disaster Predictions:\", predictions)\n",
        " # Recommend responses\n",
        " region_info = {\"location\": \"Urban Coastal\", \"population_density\": 1500}\n",
        " responses = recommend_response(predictions, region_info)\n",
        " print(\"Recommended Responses:\", responses)\n",
        " # Encrypting predictions for secure transfer\n",
        " combined_info = f\"Predictions: {predictions}, Responses: {responses}\"\n",
        " encrypted = encrypt_data(combined_info)\n",
        " decrypted = decrypt_data(encrypted)\n",
        " print(\"\\nEncrypted Alert Packet:\", encrypted)\n",
        " print(\"Decrypted Alert Packet:\", decrypted)"
      ]
    }
  ]
}